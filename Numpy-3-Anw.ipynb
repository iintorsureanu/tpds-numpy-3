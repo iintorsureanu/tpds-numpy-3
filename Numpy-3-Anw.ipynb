{
 "cells": [
  {
   "cell_type": "markdown",
   "id": "d0a6c4df-b831-40d0-9570-2d67e306827a",
   "metadata": {},
   "source": [
    "# Numpy Übungen - vektorisierte Anwendungen (1)"
   ]
  },
  {
   "cell_type": "code",
   "execution_count": null,
   "id": "5fbc66a0-9279-4c6b-9234-58fda604ff63",
   "metadata": {},
   "outputs": [],
   "source": [
    "import numpy as np"
   ]
  },
  {
   "cell_type": "markdown",
   "id": "4be0fc7e-eec2-4c9b-847a-dc7062dcc669",
   "metadata": {},
   "source": [
    "## 1. BMI-Berechnung\n",
    "### 1.1 Einfache BMI Berechnung\n",
    "Die Arztpraxis \"Dr. Schmidt\" möchte eine schnelle möglichkeit für die BMI-Berechnung für alle Patienten. Die Assistentin hat zwei Listen mit den nötigen Daten (Körpergewicht in Kg, Körpergröße in Meter) aufgestellt und als Textdateien gespeichert - `gewicht.txt, groesse.txt`. Dabei sind die Patienten anonym durch die Position in der Liste (Index) identifiziert.\n",
    "Die BMI-Kennzahl wird berechnet nach der Formel:\n",
    "\n",
    "$$\n",
    "BMI = {\\frac {Gewicht} {Groesse^2}}\n",
    "$$"
   ]
  },
  {
   "cell_type": "code",
   "execution_count": null,
   "id": "f32a0e95-ec11-48f6-a476-147255c0b02a",
   "metadata": {},
   "outputs": [],
   "source": [
    "# Nötige Dateien herunterladen:\n",
    "!curl -O https://raw.githubusercontent.com/iintorsureanu/tpds-numpy-3/main/gewicht.txt\n",
    "!curl -O https://raw.githubusercontent.com/iintorsureanu/tpds-numpy-3/main/groesse.txt"
   ]
  },
  {
   "cell_type": "code",
   "execution_count": null,
   "id": "d374474c-25ae-403f-836a-84cfa2f42513",
   "metadata": {
    "tags": []
   },
   "outputs": [],
   "source": [
    "# Array gw (Gewicht) aus Textdatei lesen:\n",
    "gw = np.loadtxt('gewicht.txt')\n",
    "gw"
   ]
  },
  {
   "cell_type": "code",
   "execution_count": null,
   "id": "e1bcc3d6-7f73-46fe-8f17-bb08d7315c41",
   "metadata": {
    "tags": []
   },
   "outputs": [],
   "source": [
    "# Array gr (Groesse) aus Textdatei lesen:\n",
    "#gr= ...\n"
   ]
  },
  {
   "cell_type": "code",
   "execution_count": null,
   "id": "9b4975e1-298d-4f53-8d75-807eedc2f77e",
   "metadata": {},
   "outputs": [],
   "source": [
    "# BMI als Array berechnen\n",
    "\n",
    "\n",
    "# auf eine Dezimalstelle runden\n"
   ]
  },
  {
   "cell_type": "code",
   "execution_count": null,
   "id": "c42fff0f-8dac-4a0f-b3fc-fdd0383488b3",
   "metadata": {},
   "outputs": [],
   "source": [
    "#Anfrage für Patient(-index) p:\n"
   ]
  },
  {
   "cell_type": "markdown",
   "id": "40953555-555e-4932-882a-4670fd5fa526",
   "metadata": {},
   "source": [
    "### 1.2 BMI-Tabelle generieren\n",
    "Eine BMI-Tabelle als Numpy-Array erstellen, mit BMI-Werten für alle Kombinationen Gewicht-Grösse (vektorisierte Operationen verwenden !)\n",
    "\n",
    "Werte für Gewicht: `50, 51, 52, ..., 120`\n",
    "\n",
    "Werte für Grösse: `1.50, 1.51, ..., 2.00`"
   ]
  },
  {
   "cell_type": "code",
   "execution_count": null,
   "id": "6e88e7d1-0d8e-4cad-8388-aa8a2723ef52",
   "metadata": {},
   "outputs": [],
   "source": [
    "# Hinweise:\n",
    "# - Vektoren durch arange(), linspace() generieren\n",
    "# - Die meshgrid()-Methode anwenden, um die Kombinationen zu generieren"
   ]
  },
  {
   "cell_type": "markdown",
   "id": "48afaca5-3458-4c75-8af4-953cc70cd1ee",
   "metadata": {
    "tags": []
   },
   "source": [
    "### 1.3 BMI-Einstufung \n",
    "__(Hausaufgabe - \"Challenge\")__\n",
    "\n",
    "Die Einstufung der Patienten in unter-, normal- oder übergewichtig berechnen. Der Normalbereich liegt laut WHO zwischen 18,5 und 24,9 kg/m².\n",
    "\n",
    "Die Bewertung der ersten 5 Patienten anzeigen."
   ]
  },
  {
   "cell_type": "code",
   "execution_count": null,
   "id": "d24de5e2-affa-4783-a6cc-0a02524ffafa",
   "metadata": {},
   "outputs": [],
   "source": []
  },
  {
   "cell_type": "markdown",
   "id": "1fbcc604-1e20-4fe6-93f7-9e5bd6b471c8",
   "metadata": {},
   "source": [
    "## 2. Bestellmengen ermitteln für Bäckerei Maier\n",
    "\n",
    "Die Familie Maier wird bald eine Bäckerei öffnen. Sie haben vor, die alten Rezepten aus Omas Notizbuch zu verwenden, um die folgenden Produkten anzubieten: __Kuchen, Kekse, Pfannkuchen und Brot__.\n",
    "Für die Eröffnung muss Frau Maier eine Liste aufstellen, um die nötigen Hauptzutaten per Großauftrag zu beschaffen. Die Zutaten sind: __Milch, Eier, Zucker, Mehl und Butter__.\n",
    "\n",
    "Die Mengen per 1 Los (lot) Produkt wurden aus Omas Notizbuch gesammelt und in eine .csv-Datei gespeichert - `backrezepte.csv`. Eine Zeile der Datei entspricht eines Produkts -`Kuchen, Kekse, Pfannkuchen, Brot`- und enthält die Mengen von: `Mehl (Kg), Zucker (Kg) , Eier (Stück), Milch (L) und Butter (Kg.)`.\n",
    "\n",
    "Bitte hilfe den Maiers, die nötigen Berechnungen in Numpy zu realisieren !"
   ]
  },
  {
   "cell_type": "code",
   "execution_count": null,
   "id": "dc702c9f-4888-4d3f-b08a-25dfc02d0516",
   "metadata": {},
   "outputs": [],
   "source": [
    "# Nötige Dateien herunterladen:\n",
    "!curl -O https://raw.githubusercontent.com/iintorsureanu/tpds-numpy-3/main/backrezepte.csv\n",
    "!curl -O https://raw.githubusercontent.com/iintorsureanu/tpds-numpy-3/main/z_preise.txt"
   ]
  },
  {
   "cell_type": "markdown",
   "id": "3d2f09a3-c133-4a31-81e9-e196172648e6",
   "metadata": {},
   "source": [
    "a. Die Rezeptdaten aus Datei lesen und in eine Matrix speichern:"
   ]
  },
  {
   "cell_type": "code",
   "execution_count": null,
   "id": "d37181c8-c766-4d0c-a159-97d16514925e",
   "metadata": {},
   "outputs": [],
   "source": [
    "R = \n"
   ]
  },
  {
   "cell_type": "markdown",
   "id": "97e787fb-43e4-4af6-82b9-ca154735150d",
   "metadata": {},
   "source": [
    "b. Die Zutatenmengen per Produkt in eine anschauliche Tabelle drucken, z.B.:\n",
    "<pre>\tMengen\n",
    "Produkt\tMehl\tZucker\tEier\tMilch\tButter\n",
    "Kuchen\t1.5\t0.75\t2.0\t2.0\t1.0\n",
    "Kekse\t2.0\t0.125\t1.0\t2.0\t0.75\n",
    "Pfannk\t1.25\t1.5\t0.0\t0.0\t1.0\n",
    "Brot\t4.0\t0.5\t2.0\t1.0\t0.25</pre>"
   ]
  },
  {
   "cell_type": "code",
   "execution_count": null,
   "id": "759b5657-e18a-4508-a62b-fbc5069d31ef",
   "metadata": {},
   "outputs": [],
   "source": [
    "## Listen mit den Produktnamen und Zutaten erstellen:\n"
   ]
  },
  {
   "cell_type": "code",
   "execution_count": null,
   "id": "003a3d22-d40c-43f6-a910-dbc12f67d813",
   "metadata": {},
   "outputs": [],
   "source": [
    "## Die Tabelle anzeigen:\n",
    "# Tabellenkopf\n",
    "\n",
    "\n",
    "#Tabellenkörper\n"
   ]
  },
  {
   "cell_type": "markdown",
   "id": "40c7d3f3-a965-46d9-8121-fc961f41ffed",
   "metadata": {},
   "source": [
    "c. Welche Zutatenmengen sind nötig, für die folgenden produzierten Mengen ?\n",
    "* Kuchen 1 Los,\n",
    "* Kekse 2 Lose,\n",
    "* Pfannkuchen 5,\n",
    "* Brot 3.\n",
    "\n",
    "Bitte eine Einkaufsliste drucken !"
   ]
  },
  {
   "cell_type": "code",
   "execution_count": null,
   "id": "a4b9f36b-9582-43ff-b386-901f97dd62b3",
   "metadata": {},
   "outputs": [],
   "source": [
    "# Mengenvektor erstellen, als Spaltenvektor umformen\n",
    "prod_mng = "
   ]
  },
  {
   "cell_type": "code",
   "execution_count": null,
   "id": "2f43bbdb-df76-4760-b31d-e02972ba4acb",
   "metadata": {},
   "outputs": [],
   "source": [
    "# Zutatenmengen berechnen \n",
    "zut_mng = "
   ]
  },
  {
   "cell_type": "code",
   "execution_count": null,
   "id": "5ffdc305-b2fb-457d-ba60-1d0c3461b8a9",
   "metadata": {},
   "outputs": [],
   "source": [
    "# Gesamtmengen summieren (Spaltensummen)\n",
    "# Hinweis: np.sum() mit Argument axis anwenden !\n",
    "ges_zut_mng = "
   ]
  },
  {
   "cell_type": "markdown",
   "id": "2142c7e9-0f47-45f0-85ab-9d9aed8770c3",
   "metadata": {},
   "source": [
    "d. Welche Beschaffungskosten hat man insgesamt ?\n",
    "Die Zutatenpreise sind in der Datei `z_preise.txt` gegeben."
   ]
  },
  {
   "cell_type": "code",
   "execution_count": null,
   "id": "8df3636b-58aa-4b66-98cf-f6cf894d5e2b",
   "metadata": {},
   "outputs": [],
   "source": [
    "# Preise aus Datei laden\n",
    "preise = \n",
    "\n",
    "# Zutatenkosten berechnen \n",
    "zut_kost = "
   ]
  },
  {
   "cell_type": "code",
   "execution_count": null,
   "id": "b1e8297c-3000-4697-86e8-97d948704d7a",
   "metadata": {},
   "outputs": [],
   "source": [
    "# Gesatmzutatenkosten berechnen \n",
    "ges_kost = "
   ]
  },
  {
   "cell_type": "code",
   "execution_count": null,
   "id": "6d5420b7-2c7c-4913-8955-faadcca6b040",
   "metadata": {},
   "outputs": [],
   "source": [
    "#oder, direkt durch Skalarprodukt (dot-product)\n",
    "ges_kost = "
   ]
  },
  {
   "cell_type": "code",
   "execution_count": null,
   "id": "ee973f05-94b4-4334-a855-9e08e5dbd070",
   "metadata": {},
   "outputs": [],
   "source": []
  }
 ],
 "metadata": {
  "kernelspec": {
   "display_name": "Python 3 (ipykernel)",
   "language": "python",
   "name": "python3"
  },
  "language_info": {
   "codemirror_mode": {
    "name": "ipython",
    "version": 3
   },
   "file_extension": ".py",
   "mimetype": "text/x-python",
   "name": "python",
   "nbconvert_exporter": "python",
   "pygments_lexer": "ipython3",
   "version": "3.9.16"
  }
 },
 "nbformat": 4,
 "nbformat_minor": 5
}
